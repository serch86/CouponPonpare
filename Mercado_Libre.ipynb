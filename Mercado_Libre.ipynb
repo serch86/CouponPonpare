{
  "nbformat": 4,
  "nbformat_minor": 0,
  "metadata": {
    "colab": {
      "name": "Mercado_Libre.ipynb",
      "provenance": [],
      "collapsed_sections": [],
      "include_colab_link": true
    },
    "kernelspec": {
      "name": "python3",
      "display_name": "Python 3"
    },
    "language_info": {
      "name": "python"
    }
  },
  "cells": [
    {
      "cell_type": "markdown",
      "metadata": {
        "id": "view-in-github",
        "colab_type": "text"
      },
      "source": [
        "<a href=\"https://colab.research.google.com/github/serch86/CouponPonpare/blob/master/Mercado_Libre.ipynb\" target=\"_parent\"><img src=\"https://colab.research.google.com/assets/colab-badge.svg\" alt=\"Open In Colab\"/></a>"
      ]
    },
    {
      "cell_type": "markdown",
      "metadata": {
        "id": "zAi7haQ_9e--"
      },
      "source": [
        "# Mercado Libre challenge"
      ]
    },
    {
      "cell_type": "code",
      "metadata": {
        "id": "3uZ4JBNGuwee"
      },
      "source": [
        "# si estamos trabajando en colab, primero debemos\n",
        "# instalar spark con las siguientes lineas de código\n",
        "\n",
        "# En caso de que no se pueda instalar spark, revisar las lineas comentadas\n",
        "!apt-get install openjdk-8-jdk-headless -qq > /dev/null\n",
        "!wget -q https://downloads.apache.org/spark/spark-3.1.2/spark-3.1.2-bin-hadoop2.7.tgz  # Revisar la ultima version en https://downloads.apache.org/spark/ y modificar el código a esa linea\n",
        "!tar xf spark-3.1.2-bin-hadoop2.7.tgz                                                  # Hacer modificaciones de la versión de spark en está linea también\n",
        "!pip install -q findspark\n",
        "import os\n",
        "os.environ[\"JAVA_HOME\"] = \"/usr/lib/jvm/java-8-openjdk-amd64\"\n",
        "os.environ[\"SPARK_HOME\"] = \"/content/spark-3.1.2-bin-hadoop2.7\"                        # Hacer modificaciones de la versión de spark en está linea también\n",
        "import findspark\n",
        "findspark.init()"
      ],
      "execution_count": 1,
      "outputs": []
    },
    {
      "cell_type": "code",
      "metadata": {
        "id": "QDUKMkabvJmO"
      },
      "source": [
        "from pyspark.sql import SparkSession\n",
        "spark = SparkSession.builder.getOrCreate()"
      ],
      "execution_count": 2,
      "outputs": []
    },
    {
      "cell_type": "code",
      "metadata": {
        "id": "AVJI9FyFvJoo",
        "colab": {
          "base_uri": "https://localhost:8080/"
        },
        "outputId": "99502ab8-d394-4d31-d6ee-ee5a0ad65e05"
      },
      "source": [
        "from google.colab import drive\n",
        "drive.mount('/content/drive')"
      ],
      "execution_count": 3,
      "outputs": [
        {
          "output_type": "stream",
          "text": [
            "Drive already mounted at /content/drive; to attempt to forcibly remount, call drive.mount(\"/content/drive\", force_remount=True).\n"
          ],
          "name": "stdout"
        }
      ]
    },
    {
      "cell_type": "markdown",
      "metadata": {
        "id": "j7FYELw13-eN"
      },
      "source": [
        "Importamos paquetería que será usada en el proyecto"
      ]
    },
    {
      "cell_type": "code",
      "metadata": {
        "id": "0CGj__XsvJrC"
      },
      "source": [
        "import gzip\n",
        "import pandas as pd\n",
        "import re\n",
        "\n",
        "import pyspark.sql.functions as F\n",
        "\n",
        "from pyspark.sql.types import StringType, DoubleType, IntegerType, ArrayType, DateType\n",
        "\n",
        "from pyspark.ml import Pipeline\n",
        "from pyspark.ml.feature import OneHotEncoder, StringIndexer, VectorAssembler, MinMaxScaler\n",
        "\n",
        "from pyspark.sql.window import Window"
      ],
      "execution_count": 68,
      "outputs": []
    },
    {
      "cell_type": "markdown",
      "metadata": {
        "id": "cJLHRjvI9XYJ"
      },
      "source": [
        "### Submission example"
      ]
    },
    {
      "cell_type": "code",
      "metadata": {
        "id": "cI7crwlB4ddR"
      },
      "source": [
        "# Rutas Allan\n",
        "path_sample_submission = '/content/drive/MyDrive/analisis/reto_mercado_libre/Data/sample_submission.csv.gz'\n",
        "path_test_data = '/content/drive/MyDrive/analisis/reto_mercado_libre/Data/test_data.csv'\n",
        "path_training_data = '/content/drive/MyDrive/analisis/reto_mercado_libre/Data/train_data.parquet'\n",
        "path_metadata = '/content/drive/MyDrive/analisis/reto_mercado_libre/Data/items_static_metadata_full.jl'\n",
        "# Rutas Sergio\n",
        "path_sample_submission = '/content/drive/MyDrive/analisis/mercado_libre/sample_submission.csv.gz'\n",
        "path_test_data = '/content/drive/MyDrive/analisis/mercado_libre/test_data.csv'\n",
        "path_training_data = '/content/drive/MyDrive/analisis/mercado_libre/train_data.parquet'\n",
        "path_metadata = '/content/drive/MyDrive/analisis/mercado_libre/items_static_metadata_full.jl'"
      ],
      "execution_count": 6,
      "outputs": []
    },
    {
      "cell_type": "markdown",
      "metadata": {
        "id": "VuJaP0ln40lY"
      },
      "source": [
        "Cargamos los datos"
      ]
    },
    {
      "cell_type": "code",
      "metadata": {
        "id": "mDPNgCrzwRnN"
      },
      "source": [
        "# submission example\n",
        "f=gzip.open(path_sample_submission,'rb')\n",
        "ejemplo=pd.read_csv(f, header=None)"
      ],
      "execution_count": 7,
      "outputs": []
    },
    {
      "cell_type": "code",
      "metadata": {
        "id": "iBU9gIoMyBqQ",
        "outputId": "ca22e39c-543a-467e-ea39-0a78a870b040",
        "colab": {
          "base_uri": "https://localhost:8080/"
        }
      },
      "source": [
        "ejemplo.shape"
      ],
      "execution_count": 8,
      "outputs": [
        {
          "output_type": "execute_result",
          "data": {
            "text/plain": [
              "(551472, 30)"
            ]
          },
          "metadata": {
            "tags": []
          },
          "execution_count": 8
        }
      ]
    },
    {
      "cell_type": "markdown",
      "metadata": {
        "id": "Qisc4pcM9bXX"
      },
      "source": [
        "### Test data"
      ]
    },
    {
      "cell_type": "code",
      "metadata": {
        "id": "zoBEFVfuv-TW"
      },
      "source": [
        "# test data\n",
        "test = pd.read_csv(path_test_data)"
      ],
      "execution_count": 9,
      "outputs": []
    },
    {
      "cell_type": "code",
      "metadata": {
        "id": "hOpgv-Aux-jK",
        "outputId": "b50af774-0f61-42f9-9ea8-df578be937a3",
        "colab": {
          "base_uri": "https://localhost:8080/"
        }
      },
      "source": [
        "test.shape"
      ],
      "execution_count": 10,
      "outputs": [
        {
          "output_type": "execute_result",
          "data": {
            "text/plain": [
              "(551472, 2)"
            ]
          },
          "metadata": {
            "tags": []
          },
          "execution_count": 10
        }
      ]
    },
    {
      "cell_type": "code",
      "metadata": {
        "id": "GCXanWvhwa_u",
        "colab": {
          "base_uri": "https://localhost:8080/",
          "height": 143
        },
        "outputId": "6bb7ca27-cebc-4daf-e5b0-fe334185f5ae"
      },
      "source": [
        "test.head(3)"
      ],
      "execution_count": 11,
      "outputs": [
        {
          "output_type": "execute_result",
          "data": {
            "text/html": [
              "<div>\n",
              "<style scoped>\n",
              "    .dataframe tbody tr th:only-of-type {\n",
              "        vertical-align: middle;\n",
              "    }\n",
              "\n",
              "    .dataframe tbody tr th {\n",
              "        vertical-align: top;\n",
              "    }\n",
              "\n",
              "    .dataframe thead th {\n",
              "        text-align: right;\n",
              "    }\n",
              "</style>\n",
              "<table border=\"1\" class=\"dataframe\">\n",
              "  <thead>\n",
              "    <tr style=\"text-align: right;\">\n",
              "      <th></th>\n",
              "      <th>sku</th>\n",
              "      <th>target_stock</th>\n",
              "    </tr>\n",
              "  </thead>\n",
              "  <tbody>\n",
              "    <tr>\n",
              "      <th>0</th>\n",
              "      <td>464801</td>\n",
              "      <td>3</td>\n",
              "    </tr>\n",
              "    <tr>\n",
              "      <th>1</th>\n",
              "      <td>645793</td>\n",
              "      <td>4</td>\n",
              "    </tr>\n",
              "    <tr>\n",
              "      <th>2</th>\n",
              "      <td>99516</td>\n",
              "      <td>8</td>\n",
              "    </tr>\n",
              "  </tbody>\n",
              "</table>\n",
              "</div>"
            ],
            "text/plain": [
              "      sku  target_stock\n",
              "0  464801             3\n",
              "1  645793             4\n",
              "2   99516             8"
            ]
          },
          "metadata": {
            "tags": []
          },
          "execution_count": 11
        }
      ]
    },
    {
      "cell_type": "code",
      "metadata": {
        "id": "n_WgRsEdwbC4"
      },
      "source": [
        "# metadata\n",
        "metadata = pd.read_json(path_metadata, lines=True)"
      ],
      "execution_count": 12,
      "outputs": []
    },
    {
      "cell_type": "code",
      "metadata": {
        "id": "JNlCG4DSv-WQ",
        "colab": {
          "base_uri": "https://localhost:8080/",
          "height": 292
        },
        "outputId": "b5ad9271-4dd5-4618-d49e-6870377beb34"
      },
      "source": [
        "metadata.head()"
      ],
      "execution_count": 13,
      "outputs": [
        {
          "output_type": "execute_result",
          "data": {
            "text/html": [
              "<div>\n",
              "<style scoped>\n",
              "    .dataframe tbody tr th:only-of-type {\n",
              "        vertical-align: middle;\n",
              "    }\n",
              "\n",
              "    .dataframe tbody tr th {\n",
              "        vertical-align: top;\n",
              "    }\n",
              "\n",
              "    .dataframe thead th {\n",
              "        text-align: right;\n",
              "    }\n",
              "</style>\n",
              "<table border=\"1\" class=\"dataframe\">\n",
              "  <thead>\n",
              "    <tr style=\"text-align: right;\">\n",
              "      <th></th>\n",
              "      <th>item_domain_id</th>\n",
              "      <th>item_id</th>\n",
              "      <th>item_title</th>\n",
              "      <th>site_id</th>\n",
              "      <th>sku</th>\n",
              "      <th>product_id</th>\n",
              "      <th>product_family_id</th>\n",
              "    </tr>\n",
              "  </thead>\n",
              "  <tbody>\n",
              "    <tr>\n",
              "      <th>0</th>\n",
              "      <td>MLB-SNEAKERS</td>\n",
              "      <td>492155</td>\n",
              "      <td>Tênis Masculino Olympikus Cyber Barato Promoçao</td>\n",
              "      <td>MLB</td>\n",
              "      <td>0</td>\n",
              "      <td>None</td>\n",
              "      <td>MLB15832732</td>\n",
              "    </tr>\n",
              "    <tr>\n",
              "      <th>1</th>\n",
              "      <td>MLB-SURFBOARD_RACKS</td>\n",
              "      <td>300279</td>\n",
              "      <td>Suporte Rack Prancha Parede C/ Regulagem Horiz...</td>\n",
              "      <td>MLB</td>\n",
              "      <td>1</td>\n",
              "      <td>None</td>\n",
              "      <td>None</td>\n",
              "    </tr>\n",
              "    <tr>\n",
              "      <th>2</th>\n",
              "      <td>MLM-NECKLACES</td>\n",
              "      <td>69847</td>\n",
              "      <td>5 Collares Plateados Dama Gargantilla Choker -...</td>\n",
              "      <td>MLM</td>\n",
              "      <td>2</td>\n",
              "      <td>None</td>\n",
              "      <td>None</td>\n",
              "    </tr>\n",
              "    <tr>\n",
              "      <th>3</th>\n",
              "      <td>MLM-RINGS</td>\n",
              "      <td>298603</td>\n",
              "      <td>Lindo Anillo De Bella Crepusculo Twilight Prom...</td>\n",
              "      <td>MLM</td>\n",
              "      <td>3</td>\n",
              "      <td>None</td>\n",
              "      <td>None</td>\n",
              "    </tr>\n",
              "    <tr>\n",
              "      <th>4</th>\n",
              "      <td>MLB-WEBCAMS</td>\n",
              "      <td>345949</td>\n",
              "      <td>Webcam Com Microfone Hd 720p Knup Youtube Pc V...</td>\n",
              "      <td>MLB</td>\n",
              "      <td>4</td>\n",
              "      <td>None</td>\n",
              "      <td>None</td>\n",
              "    </tr>\n",
              "  </tbody>\n",
              "</table>\n",
              "</div>"
            ],
            "text/plain": [
              "        item_domain_id  item_id  ... product_id product_family_id\n",
              "0         MLB-SNEAKERS   492155  ...       None       MLB15832732\n",
              "1  MLB-SURFBOARD_RACKS   300279  ...       None              None\n",
              "2        MLM-NECKLACES    69847  ...       None              None\n",
              "3            MLM-RINGS   298603  ...       None              None\n",
              "4          MLB-WEBCAMS   345949  ...       None              None\n",
              "\n",
              "[5 rows x 7 columns]"
            ]
          },
          "metadata": {
            "tags": []
          },
          "execution_count": 13
        }
      ]
    },
    {
      "cell_type": "markdown",
      "metadata": {
        "id": "1kGoa0LG9Q1Q"
      },
      "source": [
        "### Training data"
      ]
    },
    {
      "cell_type": "code",
      "metadata": {
        "id": "9zZ3Vt1TvJte"
      },
      "source": [
        "df = spark.read.parquet(path_training_data)"
      ],
      "execution_count": 42,
      "outputs": []
    },
    {
      "cell_type": "code",
      "metadata": {
        "id": "dHV4dKIDOKWu"
      },
      "source": [
        "df = df.withColumn('date',F.to_date(F.col('date')))"
      ],
      "execution_count": 43,
      "outputs": []
    },
    {
      "cell_type": "code",
      "metadata": {
        "id": "b-CdFUY3yZQK",
        "colab": {
          "base_uri": "https://localhost:8080/"
        },
        "outputId": "b4d205b8-64b2-4f70-c172-4f690fd82c2d"
      },
      "source": [
        "df.count(), len(df.columns)"
      ],
      "execution_count": 44,
      "outputs": [
        {
          "output_type": "execute_result",
          "data": {
            "text/plain": [
              "(37660279, 9)"
            ]
          },
          "metadata": {
            "tags": []
          },
          "execution_count": 44
        }
      ]
    },
    {
      "cell_type": "code",
      "metadata": {
        "id": "1zC5kpDeyZSY",
        "outputId": "a8d62546-bafe-471f-f0fa-444ae1301561",
        "colab": {
          "base_uri": "https://localhost:8080/"
        }
      },
      "source": [
        "df.show(3)"
      ],
      "execution_count": 45,
      "outputs": [
        {
          "output_type": "stream",
          "text": [
            "+------+----------+-------------+-------------+--------+------------+----------------------+----------------+--------------+\n",
            "|   sku|      date|sold_quantity|current_price|currency|listing_type|shipping_logistic_type|shipping_payment|minutes_active|\n",
            "+------+----------+-------------+-------------+--------+------------+----------------------+----------------+--------------+\n",
            "|464801|2021-02-01|            0|       156.78|     REA|     classic|           fulfillment|   free_shipping|        1440.0|\n",
            "|464801|2021-02-02|            0|       156.78|     REA|     classic|           fulfillment|   free_shipping|        1440.0|\n",
            "|464801|2021-02-03|            0|       156.78|     REA|     classic|           fulfillment|   free_shipping|        1440.0|\n",
            "+------+----------+-------------+-------------+--------+------------+----------------------+----------------+--------------+\n",
            "only showing top 3 rows\n",
            "\n"
          ],
          "name": "stdout"
        }
      ]
    },
    {
      "cell_type": "code",
      "metadata": {
        "id": "sTUKKnasymmI",
        "outputId": "a179eaee-c658-48a9-8449-610c532985e0",
        "colab": {
          "base_uri": "https://localhost:8080/"
        }
      },
      "source": [
        "df.select(F.col('sku')).dropDuplicates().count()"
      ],
      "execution_count": 46,
      "outputs": [
        {
          "output_type": "execute_result",
          "data": {
            "text/plain": [
              "660916"
            ]
          },
          "metadata": {
            "tags": []
          },
          "execution_count": 46
        }
      ]
    },
    {
      "cell_type": "code",
      "metadata": {
        "colab": {
          "base_uri": "https://localhost:8080/"
        },
        "id": "9FEwcL7Hzi-m",
        "outputId": "8b281f80-532a-4ff5-84ac-828968e42857"
      },
      "source": [
        "df.groupBy(F.col('minutes_active')).count().show()"
      ],
      "execution_count": 47,
      "outputs": [
        {
          "output_type": "stream",
          "text": [
            "+------------------+-----+\n",
            "|    minutes_active|count|\n",
            "+------------------+-----+\n",
            "|238.81278333333333|    1|\n",
            "|         165.93155|    1|\n",
            "|          763.2572|    1|\n",
            "|        1117.57335|    1|\n",
            "|1092.3185333333333|    1|\n",
            "| 932.9090166666667|    1|\n",
            "|1067.3185833333334|    1|\n",
            "|1119.0794666666666|    1|\n",
            "| 94.00356666666666|    1|\n",
            "|1054.4643833333334|    1|\n",
            "|1429.7637666666667|    1|\n",
            "|         771.24885|    1|\n",
            "|         614.97915|    1|\n",
            "|         496.95435|    1|\n",
            "| 649.4081666666667|    1|\n",
            "|1233.6563833333335|    1|\n",
            "|1178.1166333333335|    1|\n",
            "|1419.6755666666668|    1|\n",
            "| 829.4183833333334|    1|\n",
            "| 814.0651499999999|    1|\n",
            "+------------------+-----+\n",
            "only showing top 20 rows\n",
            "\n"
          ],
          "name": "stdout"
        }
      ]
    },
    {
      "cell_type": "markdown",
      "metadata": {
        "id": "1kQYNA0bKsKT"
      },
      "source": [
        "La variable objetivo hay que generarla.\n",
        "\n",
        "Tal que la Probabilidad que el producto se agote en funcion del numero de unidades vendidas durante 1 mes es nuestra variable objetivo.\n",
        "\n",
        "![mercadolibre.JPG](https://drive.google.com/uc?id=1abiIarCY5FRgLMlpyDfGy6oM5pmeYJJb)\n",
        "\n",
        "Para ello hay que crear variables auxiliares como el mes normalizado y el mes acumulado, donde:\n",
        "\n",
        "  - mes_normalizado es la suma de unidades vendidas durante el mes1 y mes2 en el dia n-esimo.\n",
        "  - mes_acumulado la suma acumulada de unidades vendidas durante el mes_normalizado."
      ]
    },
    {
      "cell_type": "code",
      "metadata": {
        "id": "d_VbpGK8zjBW",
        "outputId": "6f0564a1-c3e1-4f5f-92c2-3fce634884a7",
        "colab": {
          "base_uri": "https://localhost:8080/"
        }
      },
      "source": [
        "df.show()"
      ],
      "execution_count": 48,
      "outputs": [
        {
          "output_type": "stream",
          "text": [
            "+------+----------+-------------+-------------+--------+------------+----------------------+----------------+--------------+\n",
            "|   sku|      date|sold_quantity|current_price|currency|listing_type|shipping_logistic_type|shipping_payment|minutes_active|\n",
            "+------+----------+-------------+-------------+--------+------------+----------------------+----------------+--------------+\n",
            "|464801|2021-02-01|            0|       156.78|     REA|     classic|           fulfillment|   free_shipping|        1440.0|\n",
            "|464801|2021-02-02|            0|       156.78|     REA|     classic|           fulfillment|   free_shipping|        1440.0|\n",
            "|464801|2021-02-03|            0|       156.78|     REA|     classic|           fulfillment|   free_shipping|        1440.0|\n",
            "|464801|2021-02-04|            0|       156.78|     REA|     classic|           fulfillment|   free_shipping|        1440.0|\n",
            "|464801|2021-02-05|            1|       156.78|     REA|     classic|           fulfillment|   free_shipping|        1440.0|\n",
            "|464801|2021-02-06|            0|       157.78|     REA|     classic|           fulfillment|   free_shipping|        1440.0|\n",
            "|464801|2021-02-07|            0|       156.98|     REA|     classic|           fulfillment|   free_shipping|        1440.0|\n",
            "|464801|2021-02-08|            0|       164.99|     REA|     classic|           fulfillment|   free_shipping|        1440.0|\n",
            "|464801|2021-02-09|            1|       164.99|     REA|     classic|           fulfillment|   free_shipping|        1440.0|\n",
            "|464801|2021-02-10|            1|       164.99|     REA|     classic|           fulfillment|   free_shipping|        1440.0|\n",
            "|464801|2021-02-11|            0|       164.99|     REA|     classic|           fulfillment|   free_shipping|        1440.0|\n",
            "|464801|2021-02-12|            0|       164.99|     REA|     classic|           fulfillment|   free_shipping|        1440.0|\n",
            "|464801|2021-02-13|            0|       164.99|     REA|     classic|           fulfillment|   free_shipping|        1440.0|\n",
            "|464801|2021-02-14|            1|       164.99|     REA|     classic|           fulfillment|   free_shipping|        1440.0|\n",
            "|464801|2021-02-15|            5|       164.99|     REA|     classic|           fulfillment|   free_shipping|        1440.0|\n",
            "|464801|2021-02-16|            1|       183.14|     REA|     classic|           fulfillment|   free_shipping|        1440.0|\n",
            "|464801|2021-02-17|            0|       183.14|     REA|     classic|           fulfillment|   free_shipping|        1440.0|\n",
            "|464801|2021-02-18|            0|       183.14|     REA|     classic|           fulfillment|   free_shipping|        1440.0|\n",
            "|464801|2021-02-19|            0|       183.14|     REA|     classic|           fulfillment|   free_shipping|        1440.0|\n",
            "|464801|2021-02-20|            0|       183.14|     REA|     classic|           fulfillment|   free_shipping|        1440.0|\n",
            "+------+----------+-------------+-------------+--------+------------+----------------------+----------------+--------------+\n",
            "only showing top 20 rows\n",
            "\n"
          ],
          "name": "stdout"
        }
      ]
    },
    {
      "cell_type": "code",
      "metadata": {
        "id": "Z-nR4xY15Mxj"
      },
      "source": [
        ""
      ],
      "execution_count": 48,
      "outputs": []
    },
    {
      "cell_type": "code",
      "metadata": {
        "id": "TQQv5UR45M0e"
      },
      "source": [
        ""
      ],
      "execution_count": 48,
      "outputs": []
    },
    {
      "cell_type": "markdown",
      "metadata": {
        "id": "BW7raL-dNn0M"
      },
      "source": [
        "## Feature Engineering\n",
        "\n",
        "### Tratamiento de variables de fechas\n",
        "\n",
        "Creamos las variables de dia y dia de la semana.\n",
        "\n",
        "### Tratamiento variables categoricas\n",
        "\n",
        "Pasemos a variables dummies las variables categoricas siguientes.\n",
        "\n",
        "- day\n",
        "- day of week\n",
        "- currency\n",
        "- listing_type\n",
        "- shipping_logistic_type\n",
        "- shipping_payment\n",
        "\n",
        "Generando 49 columnas."
      ]
    },
    {
      "cell_type": "code",
      "metadata": {
        "id": "IZ4hIZhERXFW"
      },
      "source": [
        "df = df.withColumn('dia', F.dayofmonth('date').cast('string'))"
      ],
      "execution_count": 54,
      "outputs": []
    },
    {
      "cell_type": "code",
      "metadata": {
        "id": "7HRIis6CRXC3"
      },
      "source": [
        "df = df.withColumn('dia_semana', F.date_format('date', 'EEEE'))"
      ],
      "execution_count": 55,
      "outputs": []
    },
    {
      "cell_type": "code",
      "metadata": {
        "id": "lbjSGQuL5M5z"
      },
      "source": [
        "def remove_nulls(df):\n",
        "    df_no_nulls = df\n",
        "\n",
        "    for element in df_no_nulls.columns:\n",
        "        if df_no_nulls.where(df_no_nulls[element].isNull()).count() != 0:\n",
        "            print('\\tThe column \"{}\" has null values'.format(element))\n",
        "            df_no_nulls = df_no_nulls.where(df_no_nulls[element].isNotNull())\n",
        "        if df_no_nulls.where(df_no_nulls[element].isNull()).count() == 0:\n",
        "            print('The column \"{}\" does not have null values'.format(element))\n",
        "            \n",
        "    return df_no_nulls\n",
        "    \n",
        "def check_nulls(df):\n",
        "    \n",
        "    existing_nulls = False\n",
        "    \n",
        "    for element in df.columns:\n",
        "        if df.where(df[element].isNull()).count() != 0:\n",
        "            print('\\tThe column \"{}\" has null values'.format(element))\n",
        "            existing_nulls = True\n",
        "            break\n",
        "        if df.where(df[element].isNull()).count() == 0:\n",
        "            print('The column \"{}\" does not have null values'.format(element))\n",
        "            \n",
        "    return existing_nulls\n",
        "\n",
        "\n",
        "def get_dummies_spark(df, dummy_cols):   \n",
        "     \n",
        "    # check nulls\n",
        "    \n",
        "    existing_nulls = check_nulls(df)\n",
        "    \n",
        "    if existing_nulls == False:\n",
        "            \n",
        "        # StringIndexer + OneHotEncoder\n",
        "\n",
        "        dictionaries = []\n",
        "\n",
        "        for element in dummy_cols:\n",
        "            print(\"StringIndexer + OneHotEncoder for column \", element)\n",
        "\n",
        "            string_indexer = StringIndexer(inputCol=element, outputCol=element+'_category')\n",
        "            onehotencoder = OneHotEncoder(dropLast=False, inputCol= string_indexer.getOutputCol(), outputCol=element+'_dummy')\n",
        "            pipeline = Pipeline(stages=[string_indexer, onehotencoder])\n",
        "            pipeline_model = pipeline.fit(df)\n",
        "            dictionaries.append((element, list(enumerate(pipeline_model.stages[0].labels)), pipeline_model.stages[0]))\n",
        "            df = pipeline_model.transform(df)\n",
        "            df = df.drop(string_indexer.getOutputCol())\n",
        "\n",
        "        # divide OneHotEncoder output in different columns\n",
        "\n",
        "        for element in dictionaries:\n",
        "            print(\"Divide OneHotEncoder output in several columns for original column \", element[0])\n",
        "\n",
        "            df = (df.withColumn('activated_indices'+element[0], F.udf(lambda x: x.toArray().tolist(), ArrayType(DoubleType()))\n",
        "                                (F.col(element[0]+'_dummy'))))\n",
        "\n",
        "            vocab = [re.sub(r'\\W', '_', value) for value in element[-1].labels]\n",
        "            df = df.select(df.columns + [F.col(\"activated_indices\"+element[0])[i] for i in range(len(vocab))])\n",
        "\n",
        "            dictionary = {\"activated_indices\"+element[0]+\"[{0}]\".format(x): element[0]+'_'+vocab[x] for x in range(len(vocab))}\n",
        "\n",
        "            # rename columns\n",
        "            df = df.selectExpr([\"{0} as {1}\".format(x, x) if x not in dictionary else \"{0} as {1}\".format(x, dictionary[x]) \n",
        "                                          for x in df.columns])\n",
        "            df = df.drop('activated_indices'+element[0], element[0]+'_dummy')\n",
        "    \n",
        "    else:\n",
        "        print(\"There are nulls in your dataframe, please remove them or fill them before creating dummy features\")\n",
        "        \n",
        "        \n",
        "    return df"
      ],
      "execution_count": 59,
      "outputs": []
    },
    {
      "cell_type": "code",
      "metadata": {
        "id": "cxyQ8EuLN9o0",
        "outputId": "a1d8a920-25e9-4292-8c81-d8d88fa69b9b",
        "colab": {
          "base_uri": "https://localhost:8080/"
        }
      },
      "source": [
        "# get dummie cols\n",
        "dummie_cols = [col for col,t in df.dtypes if t in ('string','boolean')]\n",
        "dummie_cols"
      ],
      "execution_count": 60,
      "outputs": [
        {
          "output_type": "execute_result",
          "data": {
            "text/plain": [
              "['currency',\n",
              " 'listing_type',\n",
              " 'shipping_logistic_type',\n",
              " 'shipping_payment',\n",
              " 'dia',\n",
              " 'dia_semana']"
            ]
          },
          "metadata": {
            "tags": []
          },
          "execution_count": 60
        }
      ]
    },
    {
      "cell_type": "code",
      "metadata": {
        "id": "Pl9pjgMl5M9M",
        "outputId": "a6a2bf70-b153-4086-983a-e9185cc098c6",
        "colab": {
          "base_uri": "https://localhost:8080/"
        }
      },
      "source": [
        "df = get_dummies_spark(df,dummie_cols)"
      ],
      "execution_count": 61,
      "outputs": [
        {
          "output_type": "stream",
          "text": [
            "The column \"sku\" does not have null values\n",
            "The column \"date\" does not have null values\n",
            "The column \"sold_quantity\" does not have null values\n",
            "The column \"current_price\" does not have null values\n",
            "The column \"currency\" does not have null values\n",
            "The column \"listing_type\" does not have null values\n",
            "The column \"shipping_logistic_type\" does not have null values\n",
            "The column \"shipping_payment\" does not have null values\n",
            "The column \"minutes_active\" does not have null values\n",
            "The column \"dia\" does not have null values\n",
            "The column \"dia_semana\" does not have null values\n",
            "StringIndexer + OneHotEncoder for column  currency\n",
            "StringIndexer + OneHotEncoder for column  listing_type\n",
            "StringIndexer + OneHotEncoder for column  shipping_logistic_type\n",
            "StringIndexer + OneHotEncoder for column  shipping_payment\n",
            "StringIndexer + OneHotEncoder for column  dia\n",
            "StringIndexer + OneHotEncoder for column  dia_semana\n",
            "Divide OneHotEncoder output in several columns for original column  currency\n",
            "Divide OneHotEncoder output in several columns for original column  listing_type\n",
            "Divide OneHotEncoder output in several columns for original column  shipping_logistic_type\n",
            "Divide OneHotEncoder output in several columns for original column  shipping_payment\n",
            "Divide OneHotEncoder output in several columns for original column  dia\n",
            "Divide OneHotEncoder output in several columns for original column  dia_semana\n"
          ],
          "name": "stdout"
        }
      ]
    },
    {
      "cell_type": "markdown",
      "metadata": {
        "id": "ehv7NHTEUZE-"
      },
      "source": [
        "Variable lag de precio.\n",
        "\n",
        "Hipotesis: El cambio en el precio afecta el numero de ventas. Si el precio disminuye en un cierto porcentaje, vease como oferta, es probable que la venta de articulos aumente y por ende se acabe antes el producto de lo esperado\n",
        "\n",
        "Por otro lado, se estima que el cambio sera similar al actual *pero para evitar el data leakage se calcula el cambio con respecto al lag $t-1$, donde el lag es el precio del producto en el tiempo $t-n$* (Por ahora no se hace, se hace como la ecuacion)\n",
        "$$\\triangle p_{i,t} = p_{i,t} -  p_{i,t-1}$$"
      ]
    },
    {
      "cell_type": "code",
      "metadata": {
        "id": "_51SxQhGP-Gl"
      },
      "source": [
        "df = df.withColumn('price_lag_1',F.lag(df['current_price'], offset=1)\\\n",
        "          .over(Window.partitionBy(\"sku\").orderBy('date')))\n",
        "\n",
        "df = df.withColumn('current_price_diff',F.col('current_price') - F.col('price_lag_1'))\n",
        "df = df.withColumn('current_price_div',F.col('current_price_diff')/F.col('current_price'))"
      ],
      "execution_count": 79,
      "outputs": []
    },
    {
      "cell_type": "code",
      "metadata": {
        "id": "F49c5xK8NuJw",
        "outputId": "536a5388-e331-46c0-fc13-262ee817e4c6",
        "colab": {
          "base_uri": "https://localhost:8080/"
        }
      },
      "source": [
        "df.select('sku','date','current_price','price_lag_1', \n",
        "          'current_price_diff','current_price_div').show()"
      ],
      "execution_count": 81,
      "outputs": [
        {
          "output_type": "stream",
          "text": [
            "+---+----------+-------------+-----------+--------------------+--------------------+\n",
            "|sku|      date|current_price|price_lag_1|  current_price_diff|   current_price_div|\n",
            "+---+----------+-------------+-----------+--------------------+--------------------+\n",
            "| 26|2021-02-01|          6.9|       null|                null|                null|\n",
            "| 26|2021-02-02|          6.9|        6.9|                 0.0|                 0.0|\n",
            "| 26|2021-02-03|          6.9|        6.9|                 0.0|                 0.0|\n",
            "| 26|2021-02-04|          6.5|        6.9|-0.40000000000000036|-0.06153846153846159|\n",
            "| 26|2021-02-05|          6.5|        6.5|                 0.0|                 0.0|\n",
            "| 26|2021-02-06|          6.5|        6.5|                 0.0|                 0.0|\n",
            "| 26|2021-02-07|          6.5|        6.5|                 0.0|                 0.0|\n",
            "| 26|2021-02-08|          6.5|        6.5|                 0.0|                 0.0|\n",
            "| 26|2021-02-09|          6.5|        6.5|                 0.0|                 0.0|\n",
            "| 26|2021-02-10|          6.5|        6.5|                 0.0|                 0.0|\n",
            "| 26|2021-02-11|          6.5|        6.5|                 0.0|                 0.0|\n",
            "| 26|2021-02-12|          6.5|        6.5|                 0.0|                 0.0|\n",
            "| 26|2021-02-13|          6.5|        6.5|                 0.0|                 0.0|\n",
            "| 26|2021-02-14|          6.5|        6.5|                 0.0|                 0.0|\n",
            "| 26|2021-02-15|          6.5|        6.5|                 0.0|                 0.0|\n",
            "| 26|2021-02-16|          6.5|        6.5|                 0.0|                 0.0|\n",
            "| 26|2021-02-17|          6.5|        6.5|                 0.0|                 0.0|\n",
            "| 26|2021-02-18|          6.5|        6.5|                 0.0|                 0.0|\n",
            "| 26|2021-02-19|          6.5|        6.5|                 0.0|                 0.0|\n",
            "| 26|2021-02-20|          6.5|        6.5|                 0.0|                 0.0|\n",
            "+---+----------+-------------+-----------+--------------------+--------------------+\n",
            "only showing top 20 rows\n",
            "\n"
          ],
          "name": "stdout"
        }
      ]
    },
    {
      "cell_type": "code",
      "metadata": {
        "id": "hGZlyWIGT3VY"
      },
      "source": [
        "df.cache()"
      ],
      "execution_count": null,
      "outputs": []
    },
    {
      "cell_type": "code",
      "metadata": {
        "id": "3PXJZuoET3Rj"
      },
      "source": [
        "df.count()"
      ],
      "execution_count": null,
      "outputs": []
    },
    {
      "cell_type": "code",
      "metadata": {
        "id": "52d-ivMtT3PK"
      },
      "source": [
        "df.groupBy(\"sku\").agg(countDistinct(\"currency\")).show(70)"
      ],
      "execution_count": null,
      "outputs": []
    },
    {
      "cell_type": "code",
      "metadata": {
        "id": "Y2ForTgvcZ8W"
      },
      "source": [
        "1+1"
      ],
      "execution_count": null,
      "outputs": []
    },
    {
      "cell_type": "code",
      "metadata": {
        "id": "kZTe5vugcZ6G"
      },
      "source": [
        ""
      ],
      "execution_count": null,
      "outputs": []
    },
    {
      "cell_type": "code",
      "metadata": {
        "id": "tXLKg2UqcZ3x"
      },
      "source": [
        ""
      ],
      "execution_count": null,
      "outputs": []
    },
    {
      "cell_type": "code",
      "metadata": {
        "id": "6Liba5fxcZ1w"
      },
      "source": [
        ""
      ],
      "execution_count": null,
      "outputs": []
    },
    {
      "cell_type": "code",
      "metadata": {
        "colab": {
          "base_uri": "https://localhost:8080/"
        },
        "id": "sA8C5ffQ3enW",
        "outputId": "0f320a2a-4a47-426d-9f92-7cc88ce09d52"
      },
      "source": [
        "df.filter(F.col('sku')==464801).show()"
      ],
      "execution_count": null,
      "outputs": [
        {
          "output_type": "stream",
          "text": [
            "+------+----------+-------------+-------------+--------+------------+----------------------+----------------+--------------+\n",
            "|   sku|      date|sold_quantity|current_price|currency|listing_type|shipping_logistic_type|shipping_payment|minutes_active|\n",
            "+------+----------+-------------+-------------+--------+------------+----------------------+----------------+--------------+\n",
            "|464801|2021-02-01|            0|       156.78|     REA|     classic|           fulfillment|   free_shipping|        1440.0|\n",
            "|464801|2021-02-02|            0|       156.78|     REA|     classic|           fulfillment|   free_shipping|        1440.0|\n",
            "|464801|2021-02-03|            0|       156.78|     REA|     classic|           fulfillment|   free_shipping|        1440.0|\n",
            "|464801|2021-02-04|            0|       156.78|     REA|     classic|           fulfillment|   free_shipping|        1440.0|\n",
            "|464801|2021-02-05|            1|       156.78|     REA|     classic|           fulfillment|   free_shipping|        1440.0|\n",
            "|464801|2021-02-06|            0|       157.78|     REA|     classic|           fulfillment|   free_shipping|        1440.0|\n",
            "|464801|2021-02-07|            0|       156.98|     REA|     classic|           fulfillment|   free_shipping|        1440.0|\n",
            "|464801|2021-02-08|            0|       164.99|     REA|     classic|           fulfillment|   free_shipping|        1440.0|\n",
            "|464801|2021-02-09|            1|       164.99|     REA|     classic|           fulfillment|   free_shipping|        1440.0|\n",
            "|464801|2021-02-10|            1|       164.99|     REA|     classic|           fulfillment|   free_shipping|        1440.0|\n",
            "|464801|2021-02-11|            0|       164.99|     REA|     classic|           fulfillment|   free_shipping|        1440.0|\n",
            "|464801|2021-02-12|            0|       164.99|     REA|     classic|           fulfillment|   free_shipping|        1440.0|\n",
            "|464801|2021-02-13|            0|       164.99|     REA|     classic|           fulfillment|   free_shipping|        1440.0|\n",
            "|464801|2021-02-14|            1|       164.99|     REA|     classic|           fulfillment|   free_shipping|        1440.0|\n",
            "|464801|2021-02-15|            5|       164.99|     REA|     classic|           fulfillment|   free_shipping|        1440.0|\n",
            "|464801|2021-02-16|            1|       183.14|     REA|     classic|           fulfillment|   free_shipping|        1440.0|\n",
            "|464801|2021-02-17|            0|       183.14|     REA|     classic|           fulfillment|   free_shipping|        1440.0|\n",
            "|464801|2021-02-18|            0|       183.14|     REA|     classic|           fulfillment|   free_shipping|        1440.0|\n",
            "|464801|2021-02-19|            0|       183.14|     REA|     classic|           fulfillment|   free_shipping|        1440.0|\n",
            "|464801|2021-02-20|            0|       183.14|     REA|     classic|           fulfillment|   free_shipping|        1440.0|\n",
            "+------+----------+-------------+-------------+--------+------------+----------------------+----------------+--------------+\n",
            "only showing top 20 rows\n",
            "\n"
          ],
          "name": "stdout"
        }
      ]
    },
    {
      "cell_type": "code",
      "metadata": {
        "id": "n24OkV1-17zc"
      },
      "source": [
        "from pyspark.ml.feature import StringIndexer, OneHotEncoder, VectorAssembler\n",
        "from pyspark.ml import Pipeline"
      ],
      "execution_count": null,
      "outputs": []
    },
    {
      "cell_type": "code",
      "metadata": {
        "id": "ir3uMF3w16Na"
      },
      "source": [
        "feature_indexer = StringIndexer(inputCols = ['currency', 'listing_type', 'shipping_logistic_type', 'shipping_payment'], \n",
        "                                outputCols = ['currency_indexed', 'listing_type_indexed', 'shipping_logistic_type_indexed', 'shipping_payment_indexed'])\n",
        "\n",
        "onehotencoder = OneHotEncoder(dropLast=False, \n",
        "                              inputCols = ['currency_indexed', 'listing_type_indexed', 'shipping_logistic_type_indexed', 'shipping_payment_indexed'],\n",
        "                              outputCols = ['currency_ohe', 'listing_type_ohe', 'shipping_logistic_type_ohe', 'shipping_payment_ohe'])\n",
        "\n",
        "vector_assembler = VectorAssembler(inputCols = ['currency_ohe', 'listing_type_ohe', 'shipping_logistic_type_ohe', 'shipping_payment_ohe'],\n",
        "                                   outputCol='features')"
      ],
      "execution_count": null,
      "outputs": []
    },
    {
      "cell_type": "code",
      "metadata": {
        "id": "MH-dbfU44LhP"
      },
      "source": [
        "pipeline = Pipeline(stages=[feature_indexer, onehotencoder, vector_assembler])\n",
        "pipeline_model = pipeline.fit(df)\n",
        "df_pipeline = pipeline_model.transform(df)"
      ],
      "execution_count": null,
      "outputs": []
    },
    {
      "cell_type": "code",
      "metadata": {
        "id": "1HgQBMFj433l"
      },
      "source": [
        "df_pipeline.show(10)"
      ],
      "execution_count": null,
      "outputs": []
    },
    {
      "cell_type": "code",
      "metadata": {
        "id": "-SrgVXuw436s"
      },
      "source": [
        "(df_pipeline\n",
        " .groupBy('sku') \n",
        " .count()\n",
        " .show()\n",
        " .orderBy(F.col('count').desc()) \n",
        " )"
      ],
      "execution_count": null,
      "outputs": []
    },
    {
      "cell_type": "code",
      "metadata": {
        "id": "0XJudQEI16QC"
      },
      "source": [
        "df_indexed.show(3)"
      ],
      "execution_count": null,
      "outputs": []
    },
    {
      "cell_type": "code",
      "metadata": {
        "id": "HPv7nlAeyZUx"
      },
      "source": [
        "train_df.groupBy('currency').count().show()"
      ],
      "execution_count": null,
      "outputs": []
    },
    {
      "cell_type": "code",
      "metadata": {
        "id": "zS1RYb4UyZXR"
      },
      "source": [
        "train_df.groupBy('listing_type').count().show()"
      ],
      "execution_count": null,
      "outputs": []
    },
    {
      "cell_type": "code",
      "metadata": {
        "id": "HfyQBMVmyZZm"
      },
      "source": [
        "train_df.groupBy('shipping_logistic_type').count().show()"
      ],
      "execution_count": null,
      "outputs": []
    },
    {
      "cell_type": "code",
      "metadata": {
        "id": "t7-kwneoyZb-"
      },
      "source": [
        "train_df.groupBy('shipping_payment').count().show()"
      ],
      "execution_count": null,
      "outputs": []
    }
  ]
}